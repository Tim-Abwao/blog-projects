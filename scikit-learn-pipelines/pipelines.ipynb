{
 "cells": [
  {
   "attachments": {},
   "cell_type": "markdown",
   "id": "1ccbde75",
   "metadata": {},
   "source": [
    "# [User Guide](https://scikit-learn.org/stable/modules/compose.html)"
   ]
  },
  {
   "cell_type": "code",
   "execution_count": 1,
   "id": "f2dada8a",
   "metadata": {},
   "outputs": [],
   "source": [
    "import numpy as np\n",
    "import pandas as pd\n",
    "from sklearn.compose import ColumnTransformer, make_column_selector\n",
    "from sklearn.impute import SimpleImputer\n",
    "from sklearn.model_selection import GridSearchCV, train_test_split\n",
    "from sklearn.pipeline import make_pipeline\n",
    "from sklearn.preprocessing import OneHotEncoder, StandardScaler\n",
    "from sklearn.svm import SVR"
   ]
  },
  {
   "cell_type": "code",
   "execution_count": 2,
   "id": "9ad37b92",
   "metadata": {
    "scrolled": true
   },
   "outputs": [
    {
     "data": {
      "text/html": [
       "<div>\n",
       "<style scoped>\n",
       "    .dataframe tbody tr th:only-of-type {\n",
       "        vertical-align: middle;\n",
       "    }\n",
       "\n",
       "    .dataframe tbody tr th {\n",
       "        vertical-align: top;\n",
       "    }\n",
       "\n",
       "    .dataframe thead th {\n",
       "        text-align: right;\n",
       "    }\n",
       "</style>\n",
       "<table border=\"1\" class=\"dataframe\">\n",
       "  <thead>\n",
       "    <tr style=\"text-align: right;\">\n",
       "      <th></th>\n",
       "      <th>mpg</th>\n",
       "      <th>cylinders</th>\n",
       "      <th>displacement</th>\n",
       "      <th>horsepower</th>\n",
       "      <th>weight</th>\n",
       "      <th>acceleration</th>\n",
       "      <th>model_year</th>\n",
       "      <th>origin</th>\n",
       "    </tr>\n",
       "    <tr>\n",
       "      <th>name</th>\n",
       "      <th></th>\n",
       "      <th></th>\n",
       "      <th></th>\n",
       "      <th></th>\n",
       "      <th></th>\n",
       "      <th></th>\n",
       "      <th></th>\n",
       "      <th></th>\n",
       "    </tr>\n",
       "  </thead>\n",
       "  <tbody>\n",
       "    <tr>\n",
       "      <th>chevrolet chevelle malibu</th>\n",
       "      <td>18.0</td>\n",
       "      <td>8</td>\n",
       "      <td>307.0</td>\n",
       "      <td>130.0</td>\n",
       "      <td>3504</td>\n",
       "      <td>12.0</td>\n",
       "      <td>70</td>\n",
       "      <td>usa</td>\n",
       "    </tr>\n",
       "    <tr>\n",
       "      <th>buick skylark 320</th>\n",
       "      <td>15.0</td>\n",
       "      <td>8</td>\n",
       "      <td>350.0</td>\n",
       "      <td>165.0</td>\n",
       "      <td>3693</td>\n",
       "      <td>11.5</td>\n",
       "      <td>70</td>\n",
       "      <td>usa</td>\n",
       "    </tr>\n",
       "    <tr>\n",
       "      <th>plymouth satellite</th>\n",
       "      <td>18.0</td>\n",
       "      <td>8</td>\n",
       "      <td>318.0</td>\n",
       "      <td>150.0</td>\n",
       "      <td>3436</td>\n",
       "      <td>11.0</td>\n",
       "      <td>70</td>\n",
       "      <td>usa</td>\n",
       "    </tr>\n",
       "    <tr>\n",
       "      <th>amc rebel sst</th>\n",
       "      <td>16.0</td>\n",
       "      <td>8</td>\n",
       "      <td>304.0</td>\n",
       "      <td>150.0</td>\n",
       "      <td>3433</td>\n",
       "      <td>12.0</td>\n",
       "      <td>70</td>\n",
       "      <td>usa</td>\n",
       "    </tr>\n",
       "    <tr>\n",
       "      <th>ford torino</th>\n",
       "      <td>17.0</td>\n",
       "      <td>8</td>\n",
       "      <td>302.0</td>\n",
       "      <td>140.0</td>\n",
       "      <td>3449</td>\n",
       "      <td>10.5</td>\n",
       "      <td>70</td>\n",
       "      <td>usa</td>\n",
       "    </tr>\n",
       "  </tbody>\n",
       "</table>\n",
       "</div>"
      ],
      "text/plain": [
       "                            mpg  cylinders  displacement  horsepower  weight  \\\n",
       "name                                                                           \n",
       "chevrolet chevelle malibu  18.0          8         307.0       130.0    3504   \n",
       "buick skylark 320          15.0          8         350.0       165.0    3693   \n",
       "plymouth satellite         18.0          8         318.0       150.0    3436   \n",
       "amc rebel sst              16.0          8         304.0       150.0    3433   \n",
       "ford torino                17.0          8         302.0       140.0    3449   \n",
       "\n",
       "                           acceleration  model_year origin  \n",
       "name                                                        \n",
       "chevrolet chevelle malibu          12.0          70    usa  \n",
       "buick skylark 320                  11.5          70    usa  \n",
       "plymouth satellite                 11.0          70    usa  \n",
       "amc rebel sst                      12.0          70    usa  \n",
       "ford torino                        10.5          70    usa  "
      ]
     },
     "execution_count": 2,
     "metadata": {},
     "output_type": "execute_result"
    }
   ],
   "source": [
    "data = pd.read_csv(\"mpg.csv\", index_col=\"name\")\n",
    "data.head()"
   ]
  },
  {
   "cell_type": "code",
   "execution_count": 3,
   "id": "0ba39862",
   "metadata": {},
   "outputs": [],
   "source": [
    "X = data.drop(columns=[\"mpg\"])\n",
    "y = data[\"mpg\"]\n",
    "\n",
    "X_train, X_test, y_train, y_test = train_test_split(X, y, random_state=5, test_size=0.3)"
   ]
  },
  {
   "attachments": {},
   "cell_type": "markdown",
   "id": "e05b910b",
   "metadata": {},
   "source": [
    "## I. Applying transformations Manually"
   ]
  },
  {
   "cell_type": "code",
   "execution_count": 4,
   "id": "6f3488e4",
   "metadata": {
    "scrolled": true
   },
   "outputs": [
    {
     "data": {
      "text/plain": [
       "0.8157268404635538"
      ]
     },
     "execution_count": 4,
     "metadata": {},
     "output_type": "execute_result"
    }
   ],
   "source": [
    "column_transformer = ColumnTransformer(\n",
    "    [\n",
    "        (\"categorical\", OneHotEncoder(), make_column_selector(dtype_exclude=\"number\")),\n",
    "        (\"numeric\", StandardScaler(), make_column_selector(dtype_include=\"number\")),\n",
    "    ]\n",
    ")\n",
    "imputer = SimpleImputer(strategy=\"mean\")\n",
    "\n",
    "# Intermediate variables are needed to store transformed data\n",
    "X_train_transformed = column_transformer.fit_transform(X_train)\n",
    "X_test_transformed = column_transformer.transform(X_test)\n",
    "X_train_imputed = imputer.fit_transform(X_train_transformed)\n",
    "X_test_imputed = imputer.transform(X_test_transformed)\n",
    "\n",
    "model = SVR()\n",
    "params = {\"C\": np.logspace(1, 5, 5)}\n",
    "best_model_without_pipeline = GridSearchCV(model, param_grid=params, cv=5, n_jobs=4)\n",
    "best_model_without_pipeline.fit(X_train_imputed, y_train)\n",
    "best_model_without_pipeline.score(X_test_imputed, y_test)"
   ]
  },
  {
   "attachments": {},
   "cell_type": "markdown",
   "id": "7b795c6a",
   "metadata": {},
   "source": [
    "## Using a Pipeline"
   ]
  },
  {
   "cell_type": "code",
   "execution_count": 5,
   "id": "81a1e352",
   "metadata": {},
   "outputs": [
    {
     "data": {
      "text/plain": [
       "0.8157268404635538"
      ]
     },
     "execution_count": 5,
     "metadata": {},
     "output_type": "execute_result"
    }
   ],
   "source": [
    "# This pipeline encapsulates all transformations & the model\n",
    "model_pipeline = make_pipeline(\n",
    "    ColumnTransformer(\n",
    "        [\n",
    "            (\"categorical\", OneHotEncoder(), make_column_selector(dtype_exclude=\"number\")),\n",
    "            (\"numeric\", StandardScaler(), make_column_selector(dtype_include=\"number\")),\n",
    "        ]\n",
    "    ),\n",
    "    SimpleImputer(strategy=\"mean\"),\n",
    "    SVR(),\n",
    ")\n",
    "params = {\"svr__C\": np.logspace(1, 5, 5)}\n",
    "best_model_with_pipeline = GridSearchCV(model_pipeline, param_grid=params, cv=5, n_jobs=4)\n",
    "best_model_with_pipeline.fit(X_train, y_train)  # No intermediate variables necessary\n",
    "best_model_with_pipeline.score(X_test, y_test)"
   ]
  },
  {
   "attachments": {},
   "cell_type": "markdown",
   "id": "61ccc2a3",
   "metadata": {},
   "source": [
    "## Making Predictions on New Data"
   ]
  },
  {
   "cell_type": "code",
   "execution_count": 6,
   "id": "bcb51d9b",
   "metadata": {},
   "outputs": [
    {
     "data": {
      "text/html": [
       "<div>\n",
       "<style scoped>\n",
       "    .dataframe tbody tr th:only-of-type {\n",
       "        vertical-align: middle;\n",
       "    }\n",
       "\n",
       "    .dataframe tbody tr th {\n",
       "        vertical-align: top;\n",
       "    }\n",
       "\n",
       "    .dataframe thead th {\n",
       "        text-align: right;\n",
       "    }\n",
       "</style>\n",
       "<table border=\"1\" class=\"dataframe\">\n",
       "  <thead>\n",
       "    <tr style=\"text-align: right;\">\n",
       "      <th></th>\n",
       "      <th>cylinders</th>\n",
       "      <th>displacement</th>\n",
       "      <th>horsepower</th>\n",
       "      <th>weight</th>\n",
       "      <th>acceleration</th>\n",
       "      <th>model_year</th>\n",
       "      <th>origin</th>\n",
       "    </tr>\n",
       "  </thead>\n",
       "  <tbody>\n",
       "    <tr>\n",
       "      <th>0</th>\n",
       "      <td>9</td>\n",
       "      <td>250.0</td>\n",
       "      <td>150.0</td>\n",
       "      <td>4100</td>\n",
       "      <td>11.6</td>\n",
       "      <td>84</td>\n",
       "      <td>usa</td>\n",
       "    </tr>\n",
       "  </tbody>\n",
       "</table>\n",
       "</div>"
      ],
      "text/plain": [
       "   cylinders  displacement  horsepower  weight  acceleration  model_year  \\\n",
       "0          9         250.0       150.0    4100          11.6          84   \n",
       "\n",
       "  origin  \n",
       "0    usa  "
      ]
     },
     "execution_count": 6,
     "metadata": {},
     "output_type": "execute_result"
    }
   ],
   "source": [
    "new_row = pd.DataFrame([(9, 250.0, 150.0, 4100, 11.6, 84, \"usa\")], columns=X.columns)\n",
    "new_row"
   ]
  },
  {
   "cell_type": "code",
   "execution_count": 7,
   "id": "2cbf8fce",
   "metadata": {
    "scrolled": true
   },
   "outputs": [
    {
     "data": {
      "text/plain": [
       "array([22.08408388])"
      ]
     },
     "execution_count": 7,
     "metadata": {},
     "output_type": "execute_result"
    }
   ],
   "source": [
    "best_model_with_pipeline.predict(new_row)"
   ]
  },
  {
   "cell_type": "code",
   "execution_count": 8,
   "id": "a8a499e0",
   "metadata": {
    "scrolled": true
   },
   "outputs": [
    {
     "data": {
      "text/plain": [
       "array([22.08408388])"
      ]
     },
     "execution_count": 8,
     "metadata": {},
     "output_type": "execute_result"
    }
   ],
   "source": [
    "new_row_transformed = imputer.transform(column_transformer.transform(new_row))\n",
    "\n",
    "\n",
    "best_model_without_pipeline.predict(new_row_transformed)"
   ]
  }
 ],
 "metadata": {
  "kernelspec": {
   "display_name": "Python 3 (ipykernel)",
   "language": "python",
   "name": "python3"
  },
  "language_info": {
   "codemirror_mode": {
    "name": "ipython",
    "version": 3
   },
   "file_extension": ".py",
   "mimetype": "text/x-python",
   "name": "python",
   "nbconvert_exporter": "python",
   "pygments_lexer": "ipython3",
   "version": "3.11.4"
  }
 },
 "nbformat": 4,
 "nbformat_minor": 5
}
